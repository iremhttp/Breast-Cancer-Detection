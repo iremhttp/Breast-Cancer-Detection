{
 "cells": [
  {
   "cell_type": "markdown",
   "id": "a541f1b0-59e5-4308-bbcf-6cacf9b454b8",
   "metadata": {},
   "source": [
    "## Breast Cancer Detection Using Deep Learning Approaches"
   ]
  },
  {
   "cell_type": "code",
   "execution_count": 1,
   "id": "9c24ad1f-c880-44eb-a283-4e594231e218",
   "metadata": {},
   "outputs": [],
   "source": [
    "import opendatasets as od\n",
    "import pandas as pd"
   ]
  },
  {
   "cell_type": "markdown",
   "id": "3eae1e11-8104-40d7-a725-13737ac85675",
   "metadata": {},
   "source": [
    "#### Load Dataset"
   ]
  },
  {
   "cell_type": "code",
   "execution_count": 2,
   "id": "302f4f72-d332-4a42-979c-b3bbdcc91cce",
   "metadata": {},
   "outputs": [
    {
     "name": "stdout",
     "output_type": "stream",
     "text": [
      "Skipping, found downloaded files in \"./breast-histopathology-images\" (use force=True to force download)\n"
     ]
    }
   ],
   "source": [
    "od.download(\n",
    "\t\"https://www.kaggle.com/datasets/paultimothymooney/breast-histopathology-images\")"
   ]
  },
  {
   "cell_type": "code",
   "execution_count": null,
   "id": "15e01072-b0c6-478a-b8f8-b98d83008908",
   "metadata": {},
   "outputs": [],
   "source": []
  }
 ],
 "metadata": {
  "kernelspec": {
   "display_name": "Python 3 (ipykernel)",
   "language": "python",
   "name": "python3"
  },
  "language_info": {
   "codemirror_mode": {
    "name": "ipython",
    "version": 3
   },
   "file_extension": ".py",
   "mimetype": "text/x-python",
   "name": "python",
   "nbconvert_exporter": "python",
   "pygments_lexer": "ipython3",
   "version": "3.11.5"
  }
 },
 "nbformat": 4,
 "nbformat_minor": 5
}
