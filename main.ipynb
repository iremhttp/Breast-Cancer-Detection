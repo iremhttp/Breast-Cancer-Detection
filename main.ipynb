{
 "cells": [
  {
   "cell_type": "markdown",
   "id": "a541f1b0-59e5-4308-bbcf-6cacf9b454b8",
   "metadata": {},
   "source": [
    "## Breast Cancer Detection Using Deep Learning Approaches"
   ]
  },
  {
   "cell_type": "code",
   "execution_count": 1,
   "id": "9c24ad1f-c880-44eb-a283-4e594231e218",
   "metadata": {},
   "outputs": [],
   "source": [
    "import opendatasets as od\n",
    "import pandas as pd\n",
    "import cv2\n",
    "import os\n",
    "import numpy as np\n",
    "import matplotlib.pyplot as plt\n",
    "import keras.utils as image\n",
    "import glob"
   ]
  },
  {
   "cell_type": "markdown",
   "id": "3eae1e11-8104-40d7-a725-13737ac85675",
   "metadata": {},
   "source": [
    "#### Load Dataset"
   ]
  },
  {
   "cell_type": "code",
   "execution_count": 2,
   "id": "302f4f72-d332-4a42-979c-b3bbdcc91cce",
   "metadata": {},
   "outputs": [
    {
     "name": "stdout",
     "output_type": "stream",
     "text": [
      "Skipping, found downloaded files in \"./breast-histopathology-images\" (use force=True to force download)\n"
     ]
    }
   ],
   "source": [
    "dataset_url = \"https://www.kaggle.com/datasets/paultimothymooney/breast-histopathology-images\"\n",
    "od.download(dataset_url)"
   ]
  },
  {
   "cell_type": "code",
   "execution_count": 3,
   "id": "15e01072-b0c6-478a-b8f8-b98d83008908",
   "metadata": {},
   "outputs": [
    {
     "name": "stdout",
     "output_type": "stream",
     "text": [
      "['9036', '10268', '10257', '8913', '13613', '8914', '15510', '10259', '16165', '10292', '12951', '10261', '10295', '9259', '12750', '13020', '16552', '12905', '9266', '16555', '13018', '9261', '9257', '12934', '12933', '9250', '10260', '10258', '10293', '9037', '10269', '16531', '10256', '15516', '12932', '12935', '9256', '16554', '9260', '13019', '16553', '13021', '8984', '9258', '12751', '9267', '12876', '12882', '15634', '12871', '14188', '15633', '9324', '12878', '9323', '9383', '8867', '9346', '9174', '12822', '9173', '9322', '9325', '12879', '14189', '12870', '12884', '12241', '15632', '12883', '12877', '9126', '13106', '12823', '13591', '9175', '12824', '9347', '9181', '9382', '10307', '13916', '10300', '14306', '15471', '16896', '14156', '9135', '12890', '12897', '10308', '10301', '10306', '12896', '14157', '12891', '12898', '14192', '13458', '9083', '9077', '13460', '8955', '12910', '9041', '14210', 'IDC_regular_ps50_idx5', '14082', '10274', '9227', '10273', '13402', '14078', '9023', '12911', '14211', '13691', '9078', '12929', '13461', '9076', '13459', '16570', '9022', '10288', '9228', '14079', '10286', '13403', '10272', '10275', '13404', '9226', '13024', '8975', '16569', '12901', '9262', '13023', '16551', '9265', '12906', '9291', '12930', '13688', '12908', '9254', '16534', '8917', '15513', '10253', '9035', '10254', '15514', '16533', '13617', '10262', '12955', '16166', '10291', '12909', '9255', '14209', '12931', '13689', '16550', '13022', '12752', '9290', '12907', '13687', '8980', '8974', '13025', '12900', '16568', '12954', '10264', '16167', '10290', '8918', '16532', '13616', '15515', '10255', '10299', '15512', '8916', '8864', '12810', '8863', '12817', '14321', '12821', '12819', '12826', '9177', '9345', '12886', '9123', '12872', '9124', '12875', '12881', '9320', '12818', '16014', '9344', '9176', '12820', '9178', '9381', '15839', '8865', '12811', '9319', '9321', '16085', '12880', '9125', '12873', '12242', '12626', '16895', '14190', '12869', '12894', '14155', '12867', '12893', '10303', '10304', '15472', '14305', '14154', '12892', '14153', '12895', '12868', '14191', '15840', '14304', '15473', '10305', '10302', '13401', '14081', '9029', '10277', '12947', '12949', '10279', '12748', '9073', '8956', '8951', '14213', '13694', '15903', '13693', '12948', '10278', '10276', '10282', '9225', '10285', '13400', '15902', '9044', '13666', '13692', '9043', '8959', '14212', '9075', '9081', '8950', '12749', '13462', '8957']\n"
     ]
    }
   ],
   "source": [
    "#Dataset directory\n",
    "dataset_dir = \"./breast-histopathology-images\"\n",
    "print(os.listdir(dataset_dir))"
   ]
  },
  {
   "cell_type": "code",
   "execution_count": 4,
   "id": "068c2dec-6764-40fb-a678-4879c1a854ef",
   "metadata": {},
   "outputs": [
    {
     "name": "stdout",
     "output_type": "stream",
     "text": [
      "280\n"
     ]
    }
   ],
   "source": [
    "#Number of the files in the dataset directory\n",
    "files = os.listdir(dataset_dir)\n",
    "print(len(files))"
   ]
  },
  {
   "cell_type": "code",
   "execution_count": 5,
   "id": "a0a8f120-4916-4b71-b1a7-f93afd9bf674",
   "metadata": {},
   "outputs": [
    {
     "data": {
      "text/plain": [
       "279"
      ]
     },
     "execution_count": 5,
     "metadata": {},
     "output_type": "execute_result"
    }
   ],
   "source": [
    "#Number of the patients\n",
    "base_path = \"./breast-histopathology-images/IDC_regular_ps50_idx5/\"\n",
    "folder = os.listdir(base_path)\n",
    "len(folder)"
   ]
  },
  {
   "cell_type": "markdown",
   "id": "d1476a63-3d55-4e72-8369-85f5aeba8579",
   "metadata": {},
   "source": [
    "The patient ID is a component of the file name format, as stated in the dataset description. In light of this situation, we discovered that this dataset contains the data of 279 patients."
   ]
  },
  {
   "cell_type": "code",
   "execution_count": 13,
   "id": "7220d3fb-3aa1-4a7c-81fe-2128fd3571aa",
   "metadata": {},
   "outputs": [
    {
     "name": "stdout",
     "output_type": "stream",
     "text": [
      "There are 277524 images in the dataset.\n"
     ]
    }
   ],
   "source": [
    "#Total number of the images in the dataset\n",
    "total_img = 0\n",
    "for patient_id in os.listdir(dataset_dir):\n",
    "    patient_path = os.path.join(dataset_dir, patient_id)\n",
    "    for c in [0, 1]:\n",
    "        class_path = os.path.join(patient_path, str(c))\n",
    "        if os.path.exists(class_path):\n",
    "            total_img += len(os.listdir(class_path))\n",
    "print(f\"There are {total_img} images in the dataset.\")"
   ]
  },
  {
   "cell_type": "code",
   "execution_count": null,
   "id": "fe5abc50-eaad-4b85-adea-9c21758f37f0",
   "metadata": {},
   "outputs": [],
   "source": []
  }
 ],
 "metadata": {
  "kernelspec": {
   "display_name": "Python 3 (ipykernel)",
   "language": "python",
   "name": "python3"
  },
  "language_info": {
   "codemirror_mode": {
    "name": "ipython",
    "version": 3
   },
   "file_extension": ".py",
   "mimetype": "text/x-python",
   "name": "python",
   "nbconvert_exporter": "python",
   "pygments_lexer": "ipython3",
   "version": "3.11.5"
  }
 },
 "nbformat": 4,
 "nbformat_minor": 5
}
